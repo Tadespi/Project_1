{
 "cells": [
  {
   "cell_type": "code",
   "execution_count": 1,
   "id": "faa739b9",
   "metadata": {},
   "outputs": [],
   "source": [
    "# Dependencies and Setup\n",
    "import pandas as pd\n",
    "from pathlib import Path\n",
    "import requests\n"
   ]
  },
  {
   "cell_type": "code",
   "execution_count": 2,
   "id": "f5c9a48d",
   "metadata": {},
   "outputs": [],
   "source": [
    "data_file=Path(\"Resources/global-shark-attack-raw.xlsx\")\n",
    "rcPrompt=''\n",
    "if Path(data_file).is_file():\n",
    "    fileFix = True\n",
    "    while fileFix:\n",
    "        try:\n",
    "            data_file.unlink()\n",
    "            break\n",
    "        except PermissionError:\n",
    "            print('Unable to delete a previously created raw data file because it is currently in use by another process.\\nIf you do not get a new file, data may be out of date.\\n\\n\"' + str(data_file) + '\"')\n",
    "            while True:\n",
    "                rcPrompt = input('Do you want to [c]ontinue or [r]etry?').upper()\n",
    "                if rcPrompt not in ['R','C']:\n",
    "                    print('Invalid reponse.')\n",
    "                else:\n",
    "                    if rcPrompt == 'C':\n",
    "                        fileFix = False\n",
    "                        break\n",
    "                    else:\n",
    "                        print('')\n",
    "                        break\n",
    "\n",
    "if rcPrompt!='C':\n",
    "    download = requests.get(\"https://public.opendatasoft.com/api/explore/v2.1/catalog/datasets/global-shark-attack/exports/xlsx?lang=en&use_labels=true\")\n",
    "    savefile = open(data_file,'xb')\n",
    "    savefile.write(download.content)\n",
    "    savefile.close()\n",
    "else:\n",
    "    print('Unable to download the raw data. Data may be outdated.')\n"
   ]
  },
  {
   "cell_type": "code",
   "execution_count": 3,
   "id": "aae6b019",
   "metadata": {},
   "outputs": [],
   "source": [
    "#read the excel file into a dataframe\n",
    "all_data_df = pd.read_excel(data_file)"
   ]
  },
  {
   "cell_type": "code",
   "execution_count": 4,
   "id": "effbe8d9",
   "metadata": {},
   "outputs": [],
   "source": [
    "#Clean up items that may not be shark attacks\n",
    "clean_sharks_df = all_data_df.dropna(subset=['Type'])\n",
    "clean_sharks_df = clean_sharks_df.dropna(subset=['Year','Date'], how='all')\n",
    "clean_sharks_df = clean_sharks_df.loc[(~clean_sharks_df['Type'].isin(['?','Invalid','Questionable','Unconfirmed','Under investigation','Unverified'])),:]"
   ]
  },
  {
   "cell_type": "code",
   "execution_count": 5,
   "id": "1280eb0d",
   "metadata": {},
   "outputs": [],
   "source": [
    "clean_sharks_df.to_excel(Path(\"Resources/global-shark-attack_cleaned.xlsx\"), index=False)"
   ]
  }
 ],
 "metadata": {
  "kernelspec": {
   "display_name": "Python (dev)",
   "language": "python",
   "name": "dev"
  },
  "language_info": {
   "codemirror_mode": {
    "name": "ipython",
    "version": 3
   },
   "file_extension": ".py",
   "mimetype": "text/x-python",
   "name": "python",
   "nbconvert_exporter": "python",
   "pygments_lexer": "ipython3",
   "version": "3.10.13"
  }
 },
 "nbformat": 4,
 "nbformat_minor": 5
}
